{
  "nbformat": 4,
  "nbformat_minor": 0,
  "metadata": {
    "colab": {
      "provenance": []
    },
    "kernelspec": {
      "name": "python3",
      "display_name": "Python 3"
    },
    "language_info": {
      "name": "python"
    }
  },
  "cells": [
    {
      "cell_type": "code",
      "execution_count": 8,
      "metadata": {
        "id": "CsGO-6JD6BXD"
      },
      "outputs": [],
      "source": [
        "import numpy as np\n",
        "\n",
        "def needleman_wunsch(seq1, seq2, gap_penalty=-1, match_score=2, mismatch_score=-1):\n",
        "    # Initialize the matrix\n",
        "    n = len(seq1)\n",
        "    m = len(seq2)\n",
        "    matrix = np.zeros((n+1, m+1), dtype=int)\n",
        "\n",
        "    # Initialize the first row and column with gap penalties\n",
        "    for i in range(1, n+1):\n",
        "        matrix[i][0] = i * gap_penalty\n",
        "    for j in range(1, m+1):\n",
        "        matrix[0][j] = j * gap_penalty\n",
        "\n",
        "    # Fill in the matrix with scores\n",
        "    for i in range(1, n+1):\n",
        "        for j in range(1, m+1):\n",
        "            if seq1[i-1] == seq2[j-1]:\n",
        "                match_mismatch_score = match_score\n",
        "            else:\n",
        "                match_mismatch_score = mismatch_score\n",
        "            diagonal_score = matrix[i-1][j-1] + match_mismatch_score\n",
        "            left_score = matrix[i][j-1] + gap_penalty\n",
        "            up_score = matrix[i-1][j] + gap_penalty\n",
        "            matrix[i][j] = max(diagonal_score, left_score, up_score)\n",
        "\n",
        "    # Traceback to find the optimal alignment\n",
        "    alignment_seq1 = \"\"\n",
        "    alignment_seq2 = \"\"\n",
        "    i = n\n",
        "    j = m\n",
        "    while i > 0 and j > 0:\n",
        "        score = matrix[i][j]\n",
        "        score_diag = matrix[i-1][j-1]\n",
        "        score_left = matrix[i][j-1]\n",
        "        score_up = matrix[i-1][j]\n",
        "        if score == score_diag + match_score or score == score_diag + mismatch_score:\n",
        "            alignment_seq1 = seq1[i-1] + alignment_seq1\n",
        "            alignment_seq2 = seq2[j-1] + alignment_seq2\n",
        "            i -= 1\n",
        "            j -= 1\n",
        "        elif score == score_up + gap_penalty:\n",
        "            alignment_seq1 = seq1[i-1] + alignment_seq1\n",
        "            alignment_seq2 = \"-\" + alignment_seq2\n",
        "            i -= 1\n",
        "        else:\n",
        "            alignment_seq1 = \"-\" + alignment_seq1\n",
        "            alignment_seq2 = seq2[j-1] + alignment_seq2\n",
        "            j -= 1\n",
        "\n",
        "\n",
        "\n",
        "    return alignment_seq1, alignment_seq2, matrix[n][m]\n"
      ]
    },
    {
      "cell_type": "code",
      "source": [
        "seq1 = \"ATTGCCATT\"\n",
        "seq2 = \"ATGGCCATT\"\n",
        "alignment_seq1, alignment_seq2, score = needleman_wunsch(seq1, seq2)\n",
        "print(\"Alignment Sequence 1:\", alignment_seq1)\n",
        "print(\"Alignment Sequence 2:\", alignment_seq2)\n",
        "print(\"Alignment Score:\", score)"
      ],
      "metadata": {
        "colab": {
          "base_uri": "https://localhost:8080/"
        },
        "id": "wG-XM1t86JXJ",
        "outputId": "24d65540-a5ad-4276-db80-d887faaeeb3d"
      },
      "execution_count": 9,
      "outputs": [
        {
          "output_type": "stream",
          "name": "stdout",
          "text": [
            "Alignment Sequence 1: ATTGCCATT\n",
            "Alignment Sequence 2: ATGGCCATT\n",
            "Alignment Score: 15\n"
          ]
        }
      ]
    },
    {
      "cell_type": "code",
      "source": [
        "import numpy as np\n",
        "\n",
        "def smith_waterman(seq1, seq2, gap_penalty=-2, match_score=2, mismatch_score=-1):\n",
        "    # Initialize the matrix\n",
        "    n = len(seq1)\n",
        "    m = len(seq2)\n",
        "    matrix = np.zeros((n+1, m+1), dtype=int)\n",
        "\n",
        "    # Initialize the maximum score and its position in the matrix\n",
        "    max_score = 0\n",
        "    max_pos = (0, 0)\n",
        "\n",
        "    # Fill in the matrix with scores\n",
        "    for i in range(1, n+1):\n",
        "        for j in range(1, m+1):\n",
        "            if seq1[i-1] == seq2[j-1]:\n",
        "                match_mismatch_score = match_score\n",
        "            else:\n",
        "                match_mismatch_score = mismatch_score\n",
        "            diagonal_score = matrix[i-1][j-1] + match_mismatch_score\n",
        "            left_score = matrix[i][j-1] + gap_penalty\n",
        "            up_score = matrix[i-1][j] + gap_penalty\n",
        "            matrix[i][j] = max(0, diagonal_score, left_score, up_score)\n",
        "            if matrix[i][j] > max_score:\n",
        "                max_score = matrix[i][j]\n",
        "                max_pos = (i, j)\n",
        "\n",
        "    # Traceback to find the optimal local alignment\n",
        "    alignment_seq1 = \"\"\n",
        "    alignment_seq2 = \"\"\n",
        "    i, j = max_pos\n",
        "    while matrix[i][j] != 0:\n",
        "        score = matrix[i][j]\n",
        "        score_diag = matrix[i-1][j-1]\n",
        "        score_left = matrix[i][j-1]\n",
        "        score_up = matrix[i-1][j]\n",
        "        if score == score_diag + match_score or score == score_diag + mismatch_score:\n",
        "            alignment_seq1 = seq1[i-1] + alignment_seq1\n",
        "            alignment_seq2 = seq2[j-1] + alignment_seq2\n",
        "            i -= 1\n",
        "            j -= 1\n",
        "        elif score == score_up + gap_penalty:\n",
        "            alignment_seq1 = seq1[i-1] + alignment_seq1\n",
        "            alignment_seq2 = \"-\" + alignment_seq2\n",
        "            i -= 1\n",
        "        else:\n",
        "            alignment_seq1 = \"-\" + alignment_seq1\n",
        "            alignment_seq2 = seq2[j-1] + alignment_seq2\n",
        "            j -= 1\n",
        "\n",
        "    return alignment_seq1, alignment_seq2, max_score"
      ],
      "metadata": {
        "id": "afn2PpP86eTD"
      },
      "execution_count": 5,
      "outputs": []
    },
    {
      "cell_type": "code",
      "source": [
        "seq1 = \"ATCGGAGCCTA\"\n",
        "seq2 = \"CAGGACGGGATG\"\n",
        "alignment_seq1, alignment_seq2, score = smith_waterman(seq1, seq2)\n",
        "print(\"Alignment Sequence 1:\", alignment_seq1)\n",
        "print(\"Alignment Sequence 2:\", alignment_seq2)\n",
        "print(\"Alignment Score:\", score)"
      ],
      "metadata": {
        "colab": {
          "base_uri": "https://localhost:8080/"
        },
        "id": "qswRvjsY7Jw7",
        "outputId": "e376b7bc-3629-4d30-ef9a-b54dd9aac734"
      },
      "execution_count": 7,
      "outputs": [
        {
          "output_type": "stream",
          "name": "stdout",
          "text": [
            "Alignment Sequence 1: CGG\n",
            "Alignment Sequence 2: CGG\n",
            "Alignment Score: 6\n"
          ]
        }
      ]
    }
  ]
}